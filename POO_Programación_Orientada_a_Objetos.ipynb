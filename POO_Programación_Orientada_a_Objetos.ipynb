{
  "nbformat": 4,
  "nbformat_minor": 0,
  "metadata": {
    "colab": {
      "provenance": [],
      "include_colab_link": true
    },
    "kernelspec": {
      "name": "python3",
      "display_name": "Python 3"
    },
    "language_info": {
      "name": "python"
    }
  },
  "cells": [
    {
      "cell_type": "markdown",
      "metadata": {
        "id": "view-in-github",
        "colab_type": "text"
      },
      "source": [
        "<a href=\"https://colab.research.google.com/github/JanManuell/ProgramaciOnVisual/blob/main/POO_Programaci%C3%B3n_Orientada_a_Objetos.ipynb\" target=\"_parent\"><img src=\"https://colab.research.google.com/assets/colab-badge.svg\" alt=\"Open In Colab\"/></a>"
      ]
    },
    {
      "cell_type": "markdown",
      "source": [
        "**¿Qué es la programación orientada a objetos?**"
      ],
      "metadata": {
        "id": "fxZHzasNPvfP"
      }
    },
    {
      "cell_type": "markdown",
      "source": [
        "La Programación Orientada a Objetos (POO u OOP según sus siglas en inglés) es un paradigma de programación que usa objetos y sus interacciones para diseñar aplicaciones y programas de computadora.\n",
        "\n",
        "La programación Orientada a objetos (POO) es una forma especial de programar, más cercana a como se expresan las cosas en la vida real que otros tipos de programación."
      ],
      "metadata": {
        "id": "4rsSvraGOpzS"
      }
    },
    {
      "cell_type": "code",
      "source": [
        " Class Ejemplo ():"
      ],
      "metadata": {
        "id": "ySPeq0JK32aG"
      },
      "execution_count": null,
      "outputs": []
    },
    {
      "cell_type": "code",
      "source": [],
      "metadata": {
        "id": "eI7eCZu_dGxg"
      },
      "execution_count": null,
      "outputs": []
    },
    {
      "cell_type": "markdown",
      "source": [
        "**Conceptos Fundamentales de la POO**"
      ],
      "metadata": {
        "id": "7Ja5pO3zO8DL"
      }
    },
    {
      "cell_type": "markdown",
      "source": [
        "\n",
        "*  CLASE: Definiciones de las propiedades y comportamiento de un tipo de objeto concreto. La instanciación es la lectura de estas definiciones y la creación de un objeto a partir de ellas.\n",
        "*   OBJETO: Instancia de una clase.\n",
        "*   MÉTODO: Algoritmo asociado a un objeto (o a una clase de objetos), cuya ejecución se desencadena tras la recepción de un “mensaje”. Desde el punto de vista del comportamiento, es lo que el objeto puede hacer.\n",
        "*   MENSAJE: Una comunicación dirigida a un objeto, que le ordena que ejecute uno de sus métodos con ciertos parámetros asociados al evento que lo generó \n",
        "*   COMPORTAMIENTO: Está definido por los métodos o mensajes a los que sabe responder dicho objeto, es decir, qué operaciones se pueden realizar con él.\n",
        "*   EVENTO: Es un suceso en el sistema (tal como una interacción del usuario con la máquina, o un mensaje enviado por un objeto).\n",
        "*   ATRIBUTO: Características que tiene la clase. \n",
        "*   PROPIEDAD O ATRIBUTO: Contenedor de un tipo de datos asociados a un objeto (o a una clase de objetos), que hace los datos visibles desde fuera del objeto y esto se define como sus características predeterminadas, y cuyo valor puede ser alterado por la ejecución de algún método.\n",
        "*   ESTADO INTERNO: Es una variable que se declara privada, que puede ser únicamente accedida y alterada por un método del objeto, y que se utiliza para indicar distintas situaciones posibles para el objeto (o clase de objetos). No es visible al programador que maneja una instancia de la clase.\n",
        "*   COMPONENTES DE UN OBJETO: Atributos, identidad, relaciones y métodos.\n",
        "*   IDENTIFICACIÓN DE UN OBJETO: Un objeto se representa por medio de una tabla o entidad que esté compuesta por sus atributos y funciones correspondientes.\n",
        "\n",
        "\n",
        "\n",
        "\n",
        "\n",
        "\n"
      ],
      "metadata": {
        "id": "IpNS7kW5PD0C"
      }
    },
    {
      "cell_type": "markdown",
      "source": [
        "**POO en Python: Clases, Objetos y Métodos**"
      ],
      "metadata": {
        "id": "jp9HkivzRABZ"
      }
    },
    {
      "cell_type": "markdown",
      "source": [
        "En python la POO se expresa de manera simple y fácil de escribir..."
      ],
      "metadata": {
        "id": "oPTPNB03RL6y"
      }
    },
    {
      "cell_type": "markdown",
      "source": [
        "La teoría de la POO nos dice que todos los objetos deben pertenecer a una clase, ya que esta es la base para diferenciarse unos de otros teniendo atributos y comportamientos que los distingan de otros objetos que pertenezcan a otras clases, para crear clases en python lo hacemos de la siguiente manera:"
      ],
      "metadata": {
        "id": "vpXuF-4XRSBp"
      }
    },
    {
      "cell_type": "code",
      "execution_count": null,
      "metadata": {
        "id": "35cn4e6MPaOB"
      },
      "outputs": [],
      "source": [
        "class Coche():"
      ]
    },
    {
      "cell_type": "markdown",
      "source": [
        "Como puedes ver para crear una **clase** lo hacemos escribiendo la palabra **`class`** seguida del nombre de la clase y un par de paréntesis, debes tener en cuenta que el nombre de la clase que hayas creado debe empezar por **mayúsculas** y si tiene más de una palabra debes usar la notación de camello."
      ],
      "metadata": {
        "id": "pf2husmuTFHb"
      }
    },
    {
      "cell_type": "markdown",
      "source": [
        "NOTA: Camel Case: La primera letra de toda la palabra se indica en minúscula y la letra de cada primera palabra concatenada se escribe en mayúscula, el resto de caracteres en minúsculas."
      ],
      "metadata": {
        "id": "gYZ5yYDlUYgi"
      }
    },
    {
      "cell_type": "markdown",
      "source": [
        "Ya que tenemos una `clase` debemos definir sus **atributos** y **comportamientos**, para hacer esto debemos dejar la sangría correspondiente para indicarle que estamos escribiendo dentro de la clase, para definir un atributo simplemente creamos una variable con total normalidad y un valor que le quieras dar:"
      ],
      "metadata": {
        "id": "Hy1xl2V3Uf06"
      }
    },
    {
      "cell_type": "code",
      "source": [
        "class Coche():\n",
        "    ruedas=4"
      ],
      "metadata": {
        "id": "7mS-j0JvPtn7"
      },
      "execution_count": null,
      "outputs": []
    },
    {
      "cell_type": "markdown",
      "source": [
        "Ahora que ya tenemos un **atributo** podemos agregarle un **comportamiento** que en python se conoce como **métodos**, para definir un `método` lo hacemos igual como lo hacemos con una función con la palabra por defecto `def` y el nombre de dicho método pero para diferenciar un método de una función lo hacemos escribiendo dentro de sus paréntesis el parámetro `self`:"
      ],
      "metadata": {
        "id": "kYowsYWcU1hr"
      }
    },
    {
      "cell_type": "code",
      "source": [
        "def desplazamiento(self):\n",
        "    pass"
      ],
      "metadata": {
        "id": "JuKqyJnsPyXL"
      },
      "execution_count": null,
      "outputs": []
    },
    {
      "cell_type": "markdown",
      "source": [
        "La palabra `self` hace referencia a los objetos que pertenezcan a la clase y la palabra `pass` que colocamos dentro del método le indica a el **intérprete** de python que todavía no le hemos definido ningún funcionamiento a ese método, ya que, si no escribimos la palabra `pass` cuando todavía no le asignemos nada al método al ejecutarlo nos dará un error."
      ],
      "metadata": {
        "id": "6KfXj3VeVQjz"
      }
    },
    {
      "cell_type": "markdown",
      "source": [
        "Para definir el método **desplazamiento** y dentro esto solo colocaremos un `print` que nos dirá “El coche se esta desplazando sobre 4 ruedas”:"
      ],
      "metadata": {
        "id": "kKPHYBKBVd-x"
      }
    },
    {
      "cell_type": "code",
      "source": [
        "class Coche():\n",
        "    ruedas=4\n",
        "    def desplazamiento(self):\n",
        "        print(\"El coche se esta desplazando sobre 4 ruedas\")"
      ],
      "metadata": {
        "id": "IgiDzHeOVKPR"
      },
      "execution_count": null,
      "outputs": []
    },
    {
      "cell_type": "markdown",
      "source": [
        "Cuando tenemos nuestra **clase** lista ya podemos empezar a crear **objetos** que pertenezcan a esa clase, para crear objetos lo hacemos de la siguiente manera:"
      ],
      "metadata": {
        "id": "j3ATt1deVptS"
      }
    },
    {
      "cell_type": "code",
      "source": [
        "miVehiculo=Coche()"
      ],
      "metadata": {
        "id": "Qo8VIMihV14p"
      },
      "execution_count": null,
      "outputs": []
    },
    {
      "cell_type": "markdown",
      "source": [
        "Después del “=” le estamos especificando a que **clase** pertenece el **objeto** que acabamos de crear."
      ],
      "metadata": {
        "id": "ZNw3e94TV6SB"
      }
    },
    {
      "cell_type": "markdown",
      "source": [
        "Para poder mostrar todo los atributos y comportamientos que tiene un objeto a la hora de ejecutar un programa de POO en python, hacemos lo siguiente:\n",
        "\n",
        "Para mostrar **atributos**:\n",
        "\n",
        "`miObjeto.atributo`\n",
        "\n",
        "Para mostrar **métodos**:\n",
        "\n",
        "`miObjeto.metodo()`\n",
        "\n",
        "Siguiendo con el ejemplo, para mostrar en pantalla el **atributo** y el **comportamiento** de la clase que le dimos a nuestro objeto “miVehiculo” lo hacemos de la siguiente manera:"
      ],
      "metadata": {
        "id": "xzLZknAsV_k9"
      }
    },
    {
      "cell_type": "code",
      "source": [
        "print(\"Mi coche tiene \", miVehiculo.ruedas, \" ruedas\")\n",
        "miVehiculo.desplazamiento()"
      ],
      "metadata": {
        "colab": {
          "base_uri": "https://localhost:8080/"
        },
        "id": "dQHr6G-UWPhR",
        "outputId": "4d3c86fe-9c9d-444f-e158-dc0b8c0cb2c6"
      },
      "execution_count": null,
      "outputs": [
        {
          "output_type": "stream",
          "name": "stdout",
          "text": [
            "Mi coche tiene  4  ruedas\n",
            "El coche se esta desplazando sobre 4 ruedas\n"
          ]
        }
      ]
    },
    {
      "cell_type": "markdown",
      "source": [
        "Si has seguido este ejemplo ya tendrías el ejemplo completo de esta manera:"
      ],
      "metadata": {
        "id": "QNWQy6anWgCD"
      }
    },
    {
      "cell_type": "code",
      "source": [
        "class Coche():\n",
        "    ruedas=4\n",
        "    def desplazamiento(self):\n",
        "        print(\"El coche se esta desplazando sobre 4 ruedas\")\n",
        "miVehiculo=Coche()\n",
        "print(\"Mi coche tiene \", miVehiculo.ruedas, \" ruedas\")\n",
        "miVehiculo.desplazamiento"
      ],
      "metadata": {
        "id": "RfiTfUxTWg9L"
      },
      "execution_count": null,
      "outputs": []
    },
    {
      "cell_type": "markdown",
      "source": [
        "Puedes observar que hemos creado un **objeto** que pertenece a una **clase** y cuya clase tiene atributos y comportamientos únicos de que lo diferencia de otros objetos. El ejemplo habla de que nuestros objetos son **vehículos** y sus diferentes tipos que en la POO serían clases, tales como: motos, aviones, trenes, etc."
      ],
      "metadata": {
        "id": "rE2E2faRWz7B"
      }
    },
    {
      "cell_type": "markdown",
      "source": [
        "En la POO podemos agregar todas las **clases** que queramos o necesitemos. Ahora agregaremos la clase `moto` con sus propios atributos y comportamientos:"
      ],
      "metadata": {
        "id": "vbwvtsrkW61p"
      }
    },
    {
      "cell_type": "code",
      "source": [
        "class Moto():\n",
        "    ruedas=2\n",
        "    def desplazamiento(self):\n",
        "        print(\"La moto se esta desplazando sobre 2 ruedas\")"
      ],
      "metadata": {
        "id": "wjaMbG2wXCF5"
      },
      "execution_count": null,
      "outputs": []
    },
    {
      "cell_type": "markdown",
      "source": [
        "Ahora tenemos **dos clases** que nos permitirán creas más **objetos** que tengan diferentes atributos y comportamientos, tal y como se muestra en el siguiente ejemplo:"
      ],
      "metadata": {
        "id": "8RnOMremXHdR"
      }
    },
    {
      "cell_type": "code",
      "source": [
        "class Coche():\n",
        "    ruedas=4\n",
        "    def desplazamiento(self):\n",
        "        print(\"El coche se esta desplazando sobre 4 ruedas\")\n",
        "class Moto():\n",
        "    ruedas=2\n",
        "    def desplazamiento(self):\n",
        "        print(\"La moto se esta desplazando sobre 2 ruedas\")\n",
        "miVehiculo=Coche()\n",
        "print(\"Mi coche tiene \", miVehiculo.ruedas, \" ruedas\")\n",
        "miVehiculo.desplazamiento()\n",
        "print(\"---------------Segundo objeto---------------\")\n",
        "miVehiculo2=Moto()\n",
        "print(\"Mi moto tiene \", miVehiculo2.ruedas, \" ruedas\")\n",
        "miVehiculo2.desplazamiento()"
      ],
      "metadata": {
        "colab": {
          "base_uri": "https://localhost:8080/"
        },
        "id": "8gqOUP6zXMmR",
        "outputId": "505536e0-7c71-4fb6-8500-1cf47fbd5a54"
      },
      "execution_count": null,
      "outputs": [
        {
          "output_type": "stream",
          "name": "stdout",
          "text": [
            "Mi coche tiene  4  ruedas\n",
            "El coche se esta desplazando sobre 4 ruedas\n",
            "---------------Segundo objeto---------------\n",
            "Mi moto tiene  2  ruedas\n",
            "La moto se esta desplazando sobre 2 ruedas\n"
          ]
        }
      ]
    },
    {
      "cell_type": "markdown",
      "source": [
        "La POO tiene tres tipos de **propiedades** que permiten facilitar esta forma de programar: la encapsulación, herencia y polimorfismo."
      ],
      "metadata": {
        "id": "N-HIpxEBXd5b"
      }
    },
    {
      "cell_type": "markdown",
      "source": [
        "**Polimorfismo**\n",
        "\n",
        "La palabra polimorfismo viene del griego *pilo* que significa muchas y *morfismo* que significa formas, es decir, muchas formas. El polimorfismo en python es la capacidad que tienen los objetos de diferentes clases para usar un comportamiento o atributo del mismo nombre pero con diferente valor."
      ],
      "metadata": {
        "id": "NxI6W0D6XlAK"
      }
    },
    {
      "cell_type": "markdown",
      "source": [
        "En el ejemplo anterior de clases, objetos y métodos como pueden observar todos los vehículos tienen la capacidad de desplazarse pero no se desplazan de la misma manera, dado que una moto se desplaza sobre dos ruedas y un coche se desplaza sobre cuatro, eso es el polimorfismo."
      ],
      "metadata": {
        "id": "Wg0QNQ3PX907"
      }
    },
    {
      "cell_type": "code",
      "source": [
        "class Coche():\n",
        "    ruedas=4\n",
        "    def desplazamiento(self):\n",
        "        print(\"El coche se esta desplazando sobre 4 ruedas\")\n",
        "class Moto():\n",
        "    ruedas=2\n",
        "    def desplazamiento(self):\n",
        "        print(\"La moto se esta desplazando sobre 2 ruedas\")"
      ],
      "metadata": {
        "id": "2ZQbbAU6YJDD"
      },
      "execution_count": null,
      "outputs": []
    },
    {
      "cell_type": "markdown",
      "source": [
        "**Métodos propios de las clases en Python**"
      ],
      "metadata": {
        "id": "lvxD50t_YT6C"
      }
    },
    {
      "cell_type": "markdown",
      "source": [
        "**Método constructor**"
      ],
      "metadata": {
        "id": "jM3mnJrYYcAj"
      }
    },
    {
      "cell_type": "markdown",
      "source": [
        "El **método constructor** se conoce como el método que le da el estado inicial a una clase, vamos a crear un **objeto** y le asignaremos este método para ver su funcionalidad:"
      ],
      "metadata": {
        "id": "XJahHnOaYd5R"
      }
    },
    {
      "cell_type": "markdown",
      "source": [
        "Si te das cuenta al instanciar el `objeto perrito`, debemos pasarle los parámetros de su estado inicial los cuales son los que definimos en el **método constructor** color y raza. Al ejecutar este código obtendremos lo siguiente:"
      ],
      "metadata": {
        "id": "MuT_NvkaYqaD"
      }
    },
    {
      "cell_type": "code",
      "source": [
        "class Cachorro():\n",
        "    def __init__(self, color, raza):\n",
        "        self.color = color\n",
        "        self.raza = raza\n",
        "perrito = Cachorro(\"Marrón claro\", \"Golden retriever\")\n",
        "print(\"Este es un cachorro de la raza {} y es de color {}\".format(perrito.raza, perrito.color))"
      ],
      "metadata": {
        "colab": {
          "base_uri": "https://localhost:8080/"
        },
        "id": "oX0Iu4PWYYfh",
        "outputId": "6c54a92e-b838-46a0-d13d-a5217e0f375f"
      },
      "execution_count": null,
      "outputs": [
        {
          "output_type": "stream",
          "name": "stdout",
          "text": [
            "Este es un cachorro de la raza Golden retriever y es de color Marrón claro\n"
          ]
        }
      ]
    },
    {
      "cell_type": "markdown",
      "source": [
        "**Método string**"
      ],
      "metadata": {
        "id": "Z1mXTaBCZLy5"
      }
    },
    {
      "cell_type": "markdown",
      "source": [
        "El **método string** es otro de los métodos propios de las clases de Python, utilizando el mismo ejemplo anterior veamos que pasa cuando ejecutamos una salida por pantalla de lo que se encuentra instanciado en el objeto:"
      ],
      "metadata": {
        "id": "0hFcS7C6ZPJf"
      }
    },
    {
      "cell_type": "code",
      "source": [
        "class Cachorro():\n",
        "    def __init__(self, color, raza):\n",
        "        self.color = color\n",
        "        self.raza = raza\n",
        "perrito = Cachorro(\"Marrón claro\", \"Golden retriever\")\n",
        "print(perrito)"
      ],
      "metadata": {
        "colab": {
          "base_uri": "https://localhost:8080/"
        },
        "id": "8FhrRPGQZB_6",
        "outputId": "09a1e85f-3305-4e82-9ca4-904138b9fa58"
      },
      "execution_count": null,
      "outputs": [
        {
          "output_type": "stream",
          "name": "stdout",
          "text": [
            "<__main__.Cachorro object at 0x7f0ae476f310>\n"
          ]
        }
      ]
    },
    {
      "cell_type": "markdown",
      "source": [
        "Python nos dice que obtenemos un **objeto del tipo Cachorro**, simplemente nos dice que es una **instancia** en la clase Cachorro pero no se cual son sus propiedades, es decir su color y su raza entonces es aquí donde entra el método string que vamos a definir:"
      ],
      "metadata": {
        "id": "QTL9kUa7bFlR"
      }
    },
    {
      "cell_type": "markdown",
      "source": [
        "Ahora ejecutamos nuevamente el código y obtendremos lo que se encuentra instanciado dentro de ese objeto y todo gracias a que definimos el **método** `__str__`:"
      ],
      "metadata": {
        "id": "e3Pvk3mUbYwa"
      }
    },
    {
      "cell_type": "code",
      "source": [
        "class Cachorro():\n",
        "    def __init__(self, color, raza):\n",
        "        self.color = color\n",
        "        self.raza = raza\n",
        "    def __str__(self):\n",
        "        return \"\"\"\\\n",
        "Raza: {}\n",
        "Color: {}\"\"\".format(self.raza, self.color)\n",
        "perrito = Cachorro(\"Marrón claro\", \"Golden retriever\")\n",
        "print(perrito)"
      ],
      "metadata": {
        "colab": {
          "base_uri": "https://localhost:8080/"
        },
        "id": "5vBa33CsbLe6",
        "outputId": "b634c1d6-7a07-4a07-afe9-d2197b0694c4"
      },
      "execution_count": null,
      "outputs": [
        {
          "output_type": "stream",
          "name": "stdout",
          "text": [
            "Raza: Golden retriever\n",
            "Color: Marrón claro\n"
          ]
        }
      ]
    },
    {
      "cell_type": "markdown",
      "source": [
        "**Método repr**"
      ],
      "metadata": {
        "id": "SOmqKSaOcdF9"
      }
    },
    {
      "cell_type": "markdown",
      "source": [
        "Este método es muy parecido al **string**, su única diferencia es que se utiliza para que el mismo lenguaje python identifique que hay dentro. \n",
        "\n",
        "Una vez dicho esto, se puede decir que las diferencias que tienen ambos es que el método string es usado para que un humano pueda saber lo que hay dentro del objeto mientras que el `método repr()` es usado para que el programador sepa que hay dentro del **objeto**, vamos a rehutilizar el código anterior, pero esta vez le agregaremos un `atributo id`:"
      ],
      "metadata": {
        "id": "B4X6GW-vXn6J"
      }
    },
    {
      "cell_type": "markdown",
      "source": [
        "Por ejemplo, si ejecutamos este código podrémos ver que ahora la **función** nos retorna un **string** diciendonos que hay una **instancia** del tipo cachorro con el id número 1:"
      ],
      "metadata": {
        "id": "PCW0eHZSc8hr"
      }
    },
    {
      "cell_type": "code",
      "source": [
        "class Cachorro():\n",
        "    def __init__(self, color, raza, id):\n",
        "        self.color = color\n",
        "        self.raza = raza\n",
        "        self.id = id\n",
        "    def __str__(self):\n",
        "        return \"\"\"\\\n",
        "Raza: {}\n",
        "Color: {}\"\"\".format(self.raza, self.color)\n",
        "    def __repr__(self) -> str:\n",
        "        return \"<Cachorro {}>\".format(self.id)\n",
        "perrito = Cachorro(\"Marrón claro\", \"Golden retriever\", 1)\n",
        "print(repr(perrito))"
      ],
      "metadata": {
        "colab": {
          "base_uri": "https://localhost:8080/"
        },
        "id": "EnS9wjO2cvyz",
        "outputId": "33ef068b-fad7-4cec-cb12-cdc9b1924880"
      },
      "execution_count": null,
      "outputs": [
        {
          "output_type": "stream",
          "name": "stdout",
          "text": [
            "<Cachorro 1>\n"
          ]
        }
      ]
    },
    {
      "cell_type": "markdown",
      "source": [
        "En este caso btenemos el formato que dimos al reescribir el `método repr()`, pero cualquier persona al leer esto no sabrá porque se representa de la forma <Cachorro 1> solamente nosotros los programadores sabremos que es un **objeto** porque es así como el interprete de python hace referencia a los objetos, aunque falten otras cosas como por ejemplo la dirección en memoria en la que se encuentra, pero para este caso remplazamos el `método repr()` para mostrar el tipo de objeto y el id que lleva asignado dicho objeto."
      ],
      "metadata": {
        "id": "E-h0rpv0dFRD"
      }
    },
    {
      "cell_type": "markdown",
      "source": [
        "**Encapsulación**"
      ],
      "metadata": {
        "id": "gB5-EVcmdUkq"
      }
    },
    {
      "cell_type": "markdown",
      "source": [
        "La encapsulación es una forma de darle uso exclusivo a los comportamientos o atributos que posee una clase, es decir, protege esos atributos y comportamientos para que no sean usados de manera externa."
      ],
      "metadata": {
        "id": "XMho7QBzdXoq"
      }
    },
    {
      "cell_type": "markdown",
      "source": [
        "NOTA: En python para hacer que un atributo o comportamiento sea privado tenemos que colocar un par de guiones bajos antes del nombre del atributo o comportamiento “__nombre”."
      ],
      "metadata": {
        "id": "1ULnvfD6dhMO"
      }
    },
    {
      "cell_type": "markdown",
      "source": [
        "Vamos a crear una **clase** que llamaremos **“Ejemplo”** y dentro de ella declaramos un **método** al que llamaremos **“publico”** que contendrá un `return` que solo mostrara una cadena de texto que dirá *“Soy un método público a la vista de todo”*:"
      ],
      "metadata": {
        "id": "ZpmqTFEfdj26"
      }
    },
    {
      "cell_type": "code",
      "source": [
        "class Ejemplo():\n",
        "    def publico(self):\n",
        "        return \"Soy un método público, a la vista de todo\""
      ],
      "metadata": {
        "id": "xcK0Tf-EdzDx"
      },
      "execution_count": null,
      "outputs": []
    },
    {
      "cell_type": "markdown",
      "source": [
        "Ahora declaramos un **método** que se llame **“privado”** pero antes de su nombre pondremos un par de guiones bajos “__” y dentro del método una cadena de texto como en el método anterior:"
      ],
      "metadata": {
        "id": "7eKVii64d4r2"
      }
    },
    {
      "cell_type": "code",
      "source": [
        "class Ejemplo():\n",
        "    def publico(self):\n",
        "        return \"Soy un método público, a la vista de todo\"\n",
        "    def __privado(self):\n",
        "        return \"Soy un metodo privado, para ti no existo\""
      ],
      "metadata": {
        "id": "U5goOT4Yd-Jq"
      },
      "execution_count": null,
      "outputs": []
    },
    {
      "cell_type": "markdown",
      "source": [
        "Ya con todo esto creamos un **objeto** perteneciente a la **clase** ejemplo y procedemos a imprimir los dos métodos hemos creado:"
      ],
      "metadata": {
        "id": "w_aScT4feDkJ"
      }
    },
    {
      "cell_type": "code",
      "source": [
        "class Ejemplo():\n",
        "    def publico(self):\n",
        "        return \"Soy un método público, a la vista de todo\"\n",
        "    def __privado(self):\n",
        "        return \"Soy un metodo privado, para ti no existo\"\n",
        "objeto = Ejemplo()\n",
        "print(objeto.publico())\n",
        "print(objeto.__privado())"
      ],
      "metadata": {
        "colab": {
          "base_uri": "https://localhost:8080/",
          "height": 219
        },
        "id": "rs0BYmgjeGxy",
        "outputId": "1d880195-484e-4d03-a16b-c9462eaf727c"
      },
      "execution_count": null,
      "outputs": [
        {
          "output_type": "stream",
          "name": "stdout",
          "text": [
            "Soy un método público, a la vista de todo\n"
          ]
        },
        {
          "output_type": "error",
          "ename": "AttributeError",
          "evalue": "ignored",
          "traceback": [
            "\u001b[0;31m---------------------------------------------------------------------------\u001b[0m",
            "\u001b[0;31mAttributeError\u001b[0m                            Traceback (most recent call last)",
            "\u001b[0;32m<ipython-input-24-a052ec07434a>\u001b[0m in \u001b[0;36m<module>\u001b[0;34m\u001b[0m\n\u001b[1;32m      6\u001b[0m \u001b[0mobjeto\u001b[0m \u001b[0;34m=\u001b[0m \u001b[0mEjemplo\u001b[0m\u001b[0;34m(\u001b[0m\u001b[0;34m)\u001b[0m\u001b[0;34m\u001b[0m\u001b[0;34m\u001b[0m\u001b[0m\n\u001b[1;32m      7\u001b[0m \u001b[0mprint\u001b[0m\u001b[0;34m(\u001b[0m\u001b[0mobjeto\u001b[0m\u001b[0;34m.\u001b[0m\u001b[0mpublico\u001b[0m\u001b[0;34m(\u001b[0m\u001b[0;34m)\u001b[0m\u001b[0;34m)\u001b[0m\u001b[0;34m\u001b[0m\u001b[0;34m\u001b[0m\u001b[0m\n\u001b[0;32m----> 8\u001b[0;31m \u001b[0mprint\u001b[0m\u001b[0;34m(\u001b[0m\u001b[0mobjeto\u001b[0m\u001b[0;34m.\u001b[0m\u001b[0m__privado\u001b[0m\u001b[0;34m(\u001b[0m\u001b[0;34m)\u001b[0m\u001b[0;34m)\u001b[0m\u001b[0;34m\u001b[0m\u001b[0;34m\u001b[0m\u001b[0m\n\u001b[0m",
            "\u001b[0;31mAttributeError\u001b[0m: 'Ejemplo' object has no attribute '__privado'"
          ]
        }
      ]
    },
    {
      "cell_type": "markdown",
      "source": [
        "Como puedes ver al ejecutarlo si nos muestra el contenido del `método publico` pero a la hora de mostrar el `método privado` nos dice que tal **método** no existe pero en realidad si solo que por ser privado no puede ser mostrado externamente."
      ],
      "metadata": {
        "id": "jeT4-MAkeqUJ"
      }
    },
    {
      "cell_type": "markdown",
      "source": [
        "Python posee varias formas de mostrar contenido privado y una de ella en el **name mangling**, para aplicar el `name mangling` debemos hacerlos de esta manera:"
      ],
      "metadata": {
        "id": "Poe15344eyRi"
      }
    },
    {
      "cell_type": "code",
      "source": [
        "print(objeto._Ejemplo__privado())"
      ],
      "metadata": {
        "id": "Xgsgv2mRe498"
      },
      "execution_count": null,
      "outputs": []
    },
    {
      "cell_type": "markdown",
      "source": [
        "Al poner el nombre del objeto seguido de un punto “.”, un guion bajo “_”, el nombre de la clase y luego el nombre del método privado le estamos diciendo a python que tiene derecho a mostrar este método privado y si ejecutas el programa cambiando esa línea de código de esta manera te mostrara lo siguiente:"
      ],
      "metadata": {
        "id": "Xcy6SIx4e8ib"
      }
    },
    {
      "cell_type": "code",
      "source": [
        "class Ejemplo():\n",
        "    def publico(self):\n",
        "        return \"Soy un método público, a la vista de todo\"\n",
        "    def __privado(self):\n",
        "        return \"Soy un metodo privado, para ti no existo\"\n",
        "objeto = Ejemplo()\n",
        "print(objeto.publico())\n",
        "print(objeto._Ejemplo__privado())"
      ],
      "metadata": {
        "colab": {
          "base_uri": "https://localhost:8080/"
        },
        "id": "-a4d5_FAe71a",
        "outputId": "902bc1ce-b8a8-423a-bcbe-b913a4dbafb9"
      },
      "execution_count": null,
      "outputs": [
        {
          "output_type": "stream",
          "name": "stdout",
          "text": [
            "Soy un método público, a la vista de todo\n",
            "Soy un metodo privado, para ti no existo\n"
          ]
        }
      ]
    },
    {
      "cell_type": "markdown",
      "source": [
        "Con esto ya podemos acceder a los métodos privados que queramos pero como mencionamos anteriormente hay varias maneras de mostrar atributos o comportamientos que sean privados y para esto existen dos métodos especiales que sirven para acceder a los valores privados, estos dos métodos son el `get` (obtener, conseguir) y el `set` (establecer, colocar).\n"
      ],
      "metadata": {
        "id": "mERViiS9Wjrx"
      }
    },
    {
      "cell_type": "markdown",
      "source": [
        "Para empezar declaramos un **constructor** que le de estado inicial a un atributo, este constructor se conoce como `__init__` al cual vamos a hacer que sea **privado** y eso los hacemos de la siguiente manera:"
      ],
      "metadata": {
        "id": "xpGZFGoSV1Tq"
      }
    },
    {
      "cell_type": "code",
      "source": [
        "class Ejemplo():\n",
        "    def __init__(self):\n",
        "        self.__oculto=\"Me encuentro oculto en la clase\"\n",
        "    def publico(self):\n",
        "        return \"Soy un método público, a la vista de todo\"\n",
        "    def __privado(self):\n",
        "        return \"Soy un metodo privado, para ti no existo\""
      ],
      "metadata": {
        "id": "gHsCemdJffVK"
      },
      "execution_count": null,
      "outputs": []
    },
    {
      "cell_type": "markdown",
      "source": [
        "Ahora que tenemos un **atributo privado**, creamos un `método get` que sería algo como decir “obtener oculto” y dentro del `método ge`t le vamos a decir que nos retorne el atributo que está oculto:"
      ],
      "metadata": {
        "id": "9q3Cpjczfi-A"
      }
    },
    {
      "cell_type": "code",
      "source": [
        "class Ejemplo():\n",
        "    def __init__(self):\n",
        "        self.__oculto=\"Me encuentro oculto en la clase\"\n",
        "    def publico(self):\n",
        "        return \"Soy un método público, a la vista de todo\"\n",
        "    def __privado(self):\n",
        "        return \"Soy un metodo privado, para ti no existo\"\n",
        "    def get_oculto(self):\n",
        "        return self.__oculto  "
      ],
      "metadata": {
        "id": "HhWKQudCftcS"
      },
      "execution_count": null,
      "outputs": []
    },
    {
      "cell_type": "markdown",
      "source": [
        "Y ahora solo hacemos un llamado a este método y ejecutamos el programa:"
      ],
      "metadata": {
        "id": "oPZjBuiqf0xx"
      }
    },
    {
      "cell_type": "code",
      "source": [
        "class Ejemplo():\n",
        "    def __init__(self):\n",
        "        self.__oculto=\"Me encuentro oculto en la clase\"\n",
        "    def publico(self):\n",
        "        return \"Soy un método público, a la vista de todo\"\n",
        "    def __privado(self):\n",
        "        return \"Soy un metodo privado, para ti no existo\"\n",
        "    def get_oculto(self):\n",
        "        return self.__oculto\n",
        "objeto = Ejemplo()\n",
        "print(objeto.publico())\n",
        "print(objeto._Ejemplo__privado())\n",
        "print(objeto.get_oculto())"
      ],
      "metadata": {
        "colab": {
          "base_uri": "https://localhost:8080/"
        },
        "id": "yCBEaRKsf2Kj",
        "outputId": "10ff2607-4131-405b-e5ae-a07596f12126"
      },
      "execution_count": null,
      "outputs": [
        {
          "output_type": "stream",
          "name": "stdout",
          "text": [
            "Soy un método público, a la vista de todo\n",
            "Soy un metodo privado, para ti no existo\n",
            "Me encuentro oculto en la clase\n"
          ]
        }
      ]
    },
    {
      "cell_type": "markdown",
      "source": [
        "Como puedes ver hemos accedido al `atributo privado` por medio de un `método get`, ahora vemos a utilizar un `método set`, este método sirve para cambiarle los valores a todo lo que este encapsulado y eso lo hacemos de la siguiente manera:"
      ],
      "metadata": {
        "id": "E3xcCZ-uf-pU"
      }
    },
    {
      "cell_type": "markdown",
      "source": [
        "En este ejemplo le hemos cambiando al método “__privado” el return por un print y le asignamos su valor al atributo oculto por medio del método set para que nos imprima lo siguiente"
      ],
      "metadata": {
        "id": "WvlL8jZPgJGz"
      }
    },
    {
      "cell_type": "code",
      "source": [
        "class Ejemplo():\n",
        "    def __init__(self):\n",
        "        self.__oculto=\"Me encuentro oculto en la clase\"\n",
        "    def publico(self):\n",
        "        return \"Soy un método público, a la vista de todo\"\n",
        "    def __privado(self):\n",
        "        print (\"Soy un metodo privado, para ti no existo\")\n",
        "    def get_oculto(self):\n",
        "        return self.__oculto\n",
        "    def set_oculto(self):\n",
        "        self.__oculto = self.__privado()\n",
        "objeto = Ejemplo()\n",
        "print(objeto.publico())\n",
        "print(objeto._Ejemplo__privado())\n",
        "print(objeto.get_oculto())\n",
        "objeto.set_oculto()"
      ],
      "metadata": {
        "colab": {
          "base_uri": "https://localhost:8080/"
        },
        "id": "HLXrVqVtgEDi",
        "outputId": "97e1c017-955b-4003-a610-600ce2f6fbdd"
      },
      "execution_count": null,
      "outputs": [
        {
          "output_type": "stream",
          "name": "stdout",
          "text": [
            "Soy un método público, a la vista de todo\n",
            "Soy un metodo privado, para ti no existo\n",
            "None\n",
            "Me encuentro oculto en la clase\n",
            "Soy un metodo privado, para ti no existo\n"
          ]
        }
      ]
    },
    {
      "cell_type": "markdown",
      "source": [
        "Con esto hemos explicado un poco como aplicar la **encapsulación** en python, ahora solo falta explicar el concepto de **herencia** en python que es uno de los más importantes en la programación orientada a objetos."
      ],
      "metadata": {
        "id": "uOG5kV-MgN7P"
      }
    },
    {
      "cell_type": "markdown",
      "source": [
        "**Herencia**"
      ],
      "metadata": {
        "id": "_jmLohPbgR9x"
      }
    },
    {
      "cell_type": "markdown",
      "source": [
        "La **Herencia** explica que puede crearse un objeto a partir de otro objeto ya existente. El nuevo objeto hereda todas las cualidades del objeto del que deriva y además puede añadir nuevas funcionalidades o modificar las ya existentes."
      ],
      "metadata": {
        "id": "mc1N7akegUry"
      }
    },
    {
      "cell_type": "markdown",
      "source": [
        "Para aplicar la herencia en python debemos crear una **súper clase** o **clase padre** la cual tendrá los **atributos** y **comportamientos** principales que tendrán todas las clases derivadas de la clase padre, en este caso basaremos nuestro ejemplo de herencia con un caso de padres e hijos y para empezar declaramos la clase padre a la cual llamaremos “Padre” y le daremos los siguientes atributos y un comportamiento de la siguiente forma:"
      ],
      "metadata": {
        "id": "eqyECM9XgZEL"
      }
    },
    {
      "cell_type": "code",
      "source": [
        "class Padre():\n",
        "  \n",
        "    caballo=\"negro\"\n",
        "    ojos=\"azules\"\n",
        "    def conducir_coche(self):\n",
        "        print (\"La persona sabe conducir coches\")"
      ],
      "metadata": {
        "id": "NjzSzi6ogoLB"
      },
      "execution_count": null,
      "outputs": []
    },
    {
      "cell_type": "markdown",
      "source": [
        "Ahora que tenemos la clase padre podemos declarar una clase que herede todos los atributos y comportamientos que tiene la clase padre, esta clase que derivada de la clase padre la vamos a llama “Hijo” y para indicar en python que una clase que está heredando de otra hay que escribir el nombre de la clase de la cual está heredando dentro de los paréntesis que están después del nombre de la clase que lo hereda:"
      ],
      "metadata": {
        "id": "E9f4bpoags2X"
      }
    },
    {
      "cell_type": "code",
      "source": [
        "class Hijo(Padre):"
      ],
      "metadata": {
        "id": "a6txuIprgvkx"
      },
      "execution_count": null,
      "outputs": []
    },
    {
      "cell_type": "markdown",
      "source": [
        "Haciendo esto automáticamente la clase hijo ya tiene todo los atributos y comportamiento que tiene la clase padre sin necesidad de haberlos declarado dentro de la clase hijo."
      ],
      "metadata": {
        "id": "I_KRhmaWgx67"
      }
    },
    {
      "cell_type": "markdown",
      "source": [
        "La herencia también permite que las clases derivada de una clase padre también tengan atributos y comportamientos propios que no están en la clase padre:"
      ],
      "metadata": {
        "id": "AOp6ZWclgzp2"
      }
    },
    {
      "cell_type": "code",
      "source": [
        "class Hijo(Padre):\n",
        "  \n",
        "    def conducir_moto(self):\n",
        "        print (\"La persona sabe conducir moto\")"
      ],
      "metadata": {
        "id": "fyFKIZaXg01B"
      },
      "execution_count": null,
      "outputs": []
    },
    {
      "cell_type": "markdown",
      "source": [
        "Con esto si creamos un objeto perteneciente a la clase hijo y le decimos que imprima todos los atributos y comportamientos que tiene la clase padre lo hará con total normalidad como si los hubieras declarado en la clase hijo tal y como se muestra el en siguiente ejemplo:"
      ],
      "metadata": {
        "id": "Og_iF1FPg3Z5"
      }
    },
    {
      "cell_type": "code",
      "source": [
        "class Padre():\n",
        "  \n",
        "    caballo=\"negro\"\n",
        "    ojos=\"azules\"\n",
        "    def conducir_coche(self):\n",
        "        print (\"La persona sabe conducir coches\")\n",
        "class Hijo(Padre):\n",
        "  \n",
        "    def conducir_moto(self):\n",
        "        print (\"La persona sabe conducir moto\")\n",
        "persona=Hijo()\n",
        "print(persona.caballo)\n",
        "print(persona.ojos)\n",
        "persona.conducir_coche()\n",
        "persona.conducir_moto() "
      ],
      "metadata": {
        "colab": {
          "base_uri": "https://localhost:8080/"
        },
        "id": "rh3GFqA3g5lR",
        "outputId": "ce518630-7be4-4043-bd16-c76357b3a569"
      },
      "execution_count": null,
      "outputs": [
        {
          "output_type": "stream",
          "name": "stdout",
          "text": [
            "negro\n",
            "azules\n",
            "La persona sabe conducir coches\n",
            "La persona sabe conducir moto\n"
          ]
        }
      ]
    }
  ]
}