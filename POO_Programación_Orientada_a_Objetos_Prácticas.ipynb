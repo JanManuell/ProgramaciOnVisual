{
  "nbformat": 4,
  "nbformat_minor": 0,
  "metadata": {
    "colab": {
      "provenance": [],
      "authorship_tag": "ABX9TyN2uwv3HupmoXytbkrUvOxE",
      "include_colab_link": true
    },
    "kernelspec": {
      "name": "python3",
      "display_name": "Python 3"
    },
    "language_info": {
      "name": "python"
    }
  },
  "cells": [
    {
      "cell_type": "markdown",
      "metadata": {
        "id": "view-in-github",
        "colab_type": "text"
      },
      "source": [
        "<a href=\"https://colab.research.google.com/github/JanManuell/ProgramaciOnVisual/blob/main/POO_Programaci%C3%B3n_Orientada_a_Objetos_Pr%C3%A1cticas.ipynb\" target=\"_parent\"><img src=\"https://colab.research.google.com/assets/colab-badge.svg\" alt=\"Open In Colab\"/></a>"
      ]
    },
    {
      "cell_type": "markdown",
      "source": [
        "Ejemplo 9.6\n",
        "\n",
        "Crea una clase persona. Sus atributos deben ser su nombre y su edad. Además crea un método cumpleaños, que aumente en 1 la edad de la persona."
      ],
      "metadata": {
        "id": "ZjYCY1vGO3pm"
      }
    },
    {
      "cell_type": "code",
      "execution_count": null,
      "metadata": {
        "colab": {
          "base_uri": "https://localhost:8080/"
        },
        "id": "LOXM_pMuOfp8",
        "outputId": "9d51fbc8-a143-4eec-822a-b651ec8d8356"
      },
      "outputs": [
        {
          "output_type": "stream",
          "name": "stdout",
          "text": [
            "11\n"
          ]
        }
      ],
      "source": [
        "class Persona:\n",
        "  def __init__(self, _nombre, _edad):\n",
        "    self.nombre = _nombre\n",
        "    self.edad = _edad\n",
        "\n",
        "  def cumpleanhos(self):\n",
        "    self.edad += 1\n",
        "\n",
        "p = Persona(\"Jose\", 10)\n",
        "p.cumpleanhos()\n",
        "print(p.edad)"
      ]
    },
    {
      "cell_type": "markdown",
      "source": [
        "Ejemplo 9.7\n",
        "\n",
        "Para la clase anterior definir el método __str__. Debe retornar al menos el nombre de la persona."
      ],
      "metadata": {
        "id": "z0YoOvOFPDEz"
      }
    },
    {
      "cell_type": "code",
      "source": [
        "class Persona:\n",
        "  def __init__(self, _nombre, _edad):\n",
        "    self.nombre = _nombre\n",
        "    self.edad = _edad\n",
        "\n",
        "  def cumpleanhos(self):\n",
        "    self.edad += 1\n",
        "\n",
        "  def __str__(self):\n",
        "    return \"Persona: \" + self.nombre\n",
        "\n",
        "p = Persona(\"Jose\", 10)\n",
        "print(p)"
      ],
      "metadata": {
        "colab": {
          "base_uri": "https://localhost:8080/"
        },
        "id": "tbFyI47JPEU7",
        "outputId": "91427283-97e8-4d90-82fa-643c1b0b2c78"
      },
      "execution_count": null,
      "outputs": [
        {
          "output_type": "stream",
          "name": "stdout",
          "text": [
            "Persona: Jose\n"
          ]
        }
      ]
    },
    {
      "cell_type": "markdown",
      "source": [
        "Ejemplo 9.8\n",
        "\n",
        "Extender la clase persona agregando un atributo saldo y un método transferencia(self, persona2, monto). El saldo representa el dinero que tiene la persona. El método transferencia hace que la Persona que llama el método le transfiera la cantidad monto al objeto persona2. Si no tiene el dinero suficiente no se ejecuta la acción."
      ],
      "metadata": {
        "id": "8KR1lBiDPi9j"
      }
    },
    {
      "cell_type": "code",
      "source": [
        "class Persona:\n",
        "  def __init__(self, _nombre, _edad, _saldo):\n",
        "    self.nombre = _nombre\n",
        "    self.edad = _edad\n",
        "    self.saldo = _saldo\n",
        "\n",
        "  def cumpleanhos(self):\n",
        "    self.edad += 1\n",
        "\n",
        "  def transferencia(self, persona2, monto):\n",
        "    if self.saldo >= monto:\n",
        "      self.saldo -= monto\n",
        "      persona2.saldo += monto\n",
        "      print(\"Transferencia ok!\")\n",
        "    else:\n",
        "      print(\"No se puede efectuar la transaccion\")\n",
        "\n",
        "  def __str__(self):\n",
        "    return \"Persona: \" + self.nombre\n",
        "\n",
        "\n",
        "p = Persona(\"Jose\", 10, 2)\n",
        "p2 = Persona(\"Pedro\", 20, 20)\n",
        "p2.transferencia(p, 7)\n",
        "# Descomentar la linea de abajo y comentar la de arriba para ver una transferencia no factible.\n",
        "# p2.transferencia(p, 70)\n",
        "print(\"Saldo de p2: \")\n",
        "print(p2.saldo)\n",
        "print(\"Saldo de p1: \")\n",
        "print(p.saldo)"
      ],
      "metadata": {
        "colab": {
          "base_uri": "https://localhost:8080/"
        },
        "id": "FkzNk3ryPj_q",
        "outputId": "8bddadb7-5280-4b1e-d9a6-366ceef5441b"
      },
      "execution_count": null,
      "outputs": [
        {
          "output_type": "stream",
          "name": "stdout",
          "text": [
            "Transferencia ok!\n",
            "Saldo de p2: \n",
            "13\n",
            "Saldo de p1: \n",
            "9\n"
          ]
        }
      ]
    }
  ]
}